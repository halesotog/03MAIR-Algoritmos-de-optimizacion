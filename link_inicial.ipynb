{
  "nbformat": 4,
  "nbformat_minor": 0,
  "metadata": {
    "colab": {
      "name": "Untitled0.ipynb",
      "version": "0.3.2",
      "provenance": [],
      "include_colab_link": true
    },
    "kernelspec": {
      "name": "python3",
      "display_name": "Python 3"
    }
  },
  "cells": [
    {
      "cell_type": "markdown",
      "metadata": {
        "id": "view-in-github",
        "colab_type": "text"
      },
      "source": [
        "<a href=\"https://colab.research.google.com/github/pachon00/03MAIR-Algoritmos-de-optimizacion/blob/master/link_inicial.ipynb\" target=\"_parent\"><img src=\"https://colab.research.google.com/assets/colab-badge.svg\" alt=\"Open In Colab\"/></a>"
      ]
    },
    {
      "metadata": {
        "id": "_hwdP5pVr8d6",
        "colab_type": "code",
        "colab": {}
      },
      "cell_type": "code",
      "source": [
        "# Cargamos también un conjunto de datos\n",
        "data_file_url = 'https://raw.githubusercontent.com/pachon00/03MAIR-Algoritmos-de-optimizacion/master/train.csv'\n",
        "train_data = pd.read_csv(data_file_url)\n",
        "data_file_url = 'https://raw.githubusercontent.com/pachon00/03MAIR-Algoritmos-de-optimizacion/master/test.csv'\n",
        "test_data = pd.read_csv(data_file_url)"
      ],
      "execution_count": 0,
      "outputs": []
    }
  ]
}