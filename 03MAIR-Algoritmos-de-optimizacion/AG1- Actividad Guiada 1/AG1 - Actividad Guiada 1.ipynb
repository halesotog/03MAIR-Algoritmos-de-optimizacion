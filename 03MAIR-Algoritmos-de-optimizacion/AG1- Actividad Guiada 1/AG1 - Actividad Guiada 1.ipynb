{
  "nbformat": 4,
  "nbformat_minor": 0,
  "metadata": {
    "colab": {
      "name": "ActividadGuiada1.ipynb",
      "version": "0.3.2",
      "provenance": [],
      "include_colab_link": true
    },
    "kernelspec": {
      "name": "python3",
      "display_name": "Python 3"
    }
  },
  "cells": [
    {
      "cell_type": "markdown",
      "metadata": {
        "id": "view-in-github",
        "colab_type": "text"
      },
      "source": [
        "<a href=\"https://colab.research.google.com/github/pachon00/03MAIR-Algoritmos-de-optimizacion/blob/master/03MAIR-Algoritmos-de-optimizacion/AG1-%20Actividad%20Guiada%201/AG1%20-%20Actividad%20Guiada%201.ipynb\" target=\"_parent\"><img src=\"https://colab.research.google.com/assets/colab-badge.svg\" alt=\"Open In Colab\"/></a>"
      ]
    },
    {
      "metadata": {
        "id": "tZOYDfq4bC2p",
        "colab_type": "code",
        "colab": {}
      },
      "cell_type": "code",
      "source": [
        ""
      ],
      "execution_count": 0,
      "outputs": []
    },
    {
      "metadata": {
        "id": "37LptndCbFPj",
        "colab_type": "text"
      },
      "cell_type": "markdown",
      "source": [
        "AG - Actividad Guiada 1<br>\n",
        "Daniel Enrique Brambila Rico<br>\n",
        "<b>Url:</b><href=https://github.com/pachon00/03MAIR-Algoritmos-de-optimizacion/tree/master/AG1-%20Actividad%20Guiada%201>"
      ]
    },
    {
      "metadata": {
        "id": "s00QSCoNcBeA",
        "colab_type": "code",
        "colab": {
          "base_uri": "https://localhost:8080/",
          "height": 340
        },
        "outputId": "b45bfb5f-f3b4-41ea-b344-c443a41380cd"
      },
      "cell_type": "code",
      "source": [
        "#quick_sort\n",
        "\n",
        "A = [9187, 244, 4054, 9222, 8373, 4993, 5265, 5470, 4519, 7182, 2035, 3506, 4337, 7580, 2554, 2824, 8357, 4447, 7379]\n",
        "\n",
        "def quick_sort(A):\n",
        "  if len(A) == 1:\n",
        "    return A\n",
        "  if len(A) == 2:\n",
        "    return [min(A),max(A)] \n",
        "  #if es mas efectivo\n",
        "  \n",
        "  IZQ=[]\n",
        "  DER=[]\n",
        "   \n",
        "  pivote = ( A[0] + A[1] + A[2] ) / 3 \n",
        "  #len(lista)/2\n",
        "  \n",
        "  for i in A:\n",
        "    if i < pivote:\n",
        "      IZQ.append(i)\n",
        "    else:\n",
        "      DER.append(i)\n",
        "    \n",
        "  return quick_sort(IZQ) + quick_sort(DER)\n",
        "\n",
        "quick_sort(A)"
      ],
      "execution_count": 30,
      "outputs": [
        {
          "output_type": "execute_result",
          "data": {
            "text/plain": [
              "[244,\n",
              " 2035,\n",
              " 2554,\n",
              " 2824,\n",
              " 3506,\n",
              " 4054,\n",
              " 4337,\n",
              " 4447,\n",
              " 4519,\n",
              " 4993,\n",
              " 5265,\n",
              " 5470,\n",
              " 7182,\n",
              " 7379,\n",
              " 7580,\n",
              " 8357,\n",
              " 8373,\n",
              " 9187,\n",
              " 9222]"
            ]
          },
          "metadata": {
            "tags": []
          },
          "execution_count": 30
        }
      ]
    },
    {
      "metadata": {
        "id": "AW8aReFHiP7C",
        "colab_type": "code",
        "colab": {}
      },
      "cell_type": "code",
      "source": [
        "#Decorador para calcular_tiempo a la función para la cual queremos calcular el tiempo de ejecución(Isabel Vázquez)\n",
        "\n",
        "from time import time\n",
        "#Función para calcular el tiempo de ejecución\n",
        "def calcular_tiempo(f):\n",
        "   \n",
        "    def wrapper(*args, **kwargs):     \n",
        "        inicio = time()       \n",
        "        resultado = f(*args, **kwargs)       \n",
        "        tiempo = time() - inicio\n",
        "        print(\"Tiempo de ejecución para algoritmo: \"+str(tiempo))\n",
        "        return resultado\n",
        "    \n",
        "    return wrapper\n",
        "from time import time"
      ],
      "execution_count": 0,
      "outputs": []
    },
    {
      "metadata": {
        "id": "Kj3YMq3CQoBw",
        "colab_type": "code",
        "colab": {
          "base_uri": "https://localhost:8080/",
          "height": 71
        },
        "outputId": "5f0e00de-8d0d-439a-97eb-eb23f9cdad90"
      },
      "cell_type": "code",
      "source": [
        "@calcular_tiempo\n",
        "def QS(A):\n",
        "   return quick_sort(A)\n",
        "\n",
        "print(QS(A))"
      ],
      "execution_count": 43,
      "outputs": [
        {
          "output_type": "stream",
          "text": [
            "Tiempo de ejecución para algoritmo: 4.2438507080078125e-05\n",
            "[244, 2035, 2554, 2824, 3506, 4054, 4337, 4447, 4519, 4993, 5265, 5470, 7182, 7379, 7580, 8357, 8373, 9187, 9222]\n"
          ],
          "name": "stdout"
        }
      ]
    },
    {
      "metadata": {
        "id": "Rzh8MSuAUX7U",
        "colab_type": "code",
        "colab": {
          "base_uri": "https://localhost:8080/",
          "height": 51
        },
        "outputId": "a20c816d-c0fd-4642-fb05-47540c088c07"
      },
      "cell_type": "code",
      "source": [
        "SISTEMA = [25,10,5,1]\n",
        "\n",
        "@calcular_tiempo\n",
        "def cambio_monedas(CANTIDAD,SISTEMA):\n",
        "  SOLUCION=[0 for i in range(len(SISTEMA))]\n",
        "  \n",
        "  VALOR_ACUMULADO = 0\n",
        "  \n",
        "  for i in range(len(SISTEMA)):\n",
        "    monedas = int((CANTIDAD - VALOR_ACUMULADO)/SISTEMA[i])\n",
        "\n",
        "    SOLUCION[i] = monedas\n",
        "    VALOR_ACUMULADO += monedas*SISTEMA[i]\n",
        "    \n",
        "    if CANTIDAD == VALOR_ACUMULADO:\n",
        "      return SOLUCION\n",
        "    \n",
        "\n",
        "cambio_monedas(99,SISTEMA)"
      ],
      "execution_count": 42,
      "outputs": [
        {
          "output_type": "stream",
          "text": [
            "Tiempo de ejecución para algoritmo: 8.821487426757812e-06\n"
          ],
          "name": "stdout"
        },
        {
          "output_type": "execute_result",
          "data": {
            "text/plain": [
              "[3, 2, 0, 4]"
            ]
          },
          "metadata": {
            "tags": []
          },
          "execution_count": 42
        }
      ]
    },
    {
      "metadata": {
        "id": "o8q7Toc9bEt0",
        "colab_type": "text"
      },
      "cell_type": "markdown",
      "source": [
        "def reinas(N, solucion, etapa):\n",
        "  \n",
        "  "
      ]
    },
    {
      "metadata": {
        "id": "u_Af3IePnmIC",
        "colab_type": "code",
        "colab": {}
      },
      "cell_type": "code",
      "source": [
        "N = 4\n",
        "solucion = [0 for i in range(N)]\n",
        "etapa = 0\n",
        "\n",
        "def es_prometedora(SOLUCION, etapa):\n",
        "  if SOLUCION.count(SOLUCION[i]) > 1: return False\n",
        "  \n",
        "  for j in range(i+j,etapa + 1):\n",
        "    if abs(i-j) == abs(SOLUCION[i] - SOLUCION[j]):  return False\n",
        "  return true\n",
        "\n",
        "\n",
        "def reinas(N, solucion, etapa):\n",
        "  \n",
        "  if es_prometedora(solucion, etapa):\n",
        "    if etapa==N-1:\n",
        "      print(solucion)\n",
        "    else:\n",
        "      reinas(N, solucion, etapa + 1)\n",
        "  else:\n",
        "    None\n",
        "    \n",
        "  solucion[etapa] = 0"
      ],
      "execution_count": 0,
      "outputs": []
    }
  ]
}