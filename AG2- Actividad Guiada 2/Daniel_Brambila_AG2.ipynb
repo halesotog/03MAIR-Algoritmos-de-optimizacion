{
  "nbformat": 4,
  "nbformat_minor": 0,
  "metadata": {
    "colab": {
      "name": "Daniel Brambila - AG2.ipynb",
      "version": "0.3.2",
      "provenance": [],
      "include_colab_link": true
    },
    "kernelspec": {
      "name": "python3",
      "display_name": "Python 3"
    }
  },
  "cells": [
    {
      "cell_type": "markdown",
      "metadata": {
        "id": "view-in-github",
        "colab_type": "text"
      },
      "source": [
        "<a href=\"https://colab.research.google.com/github/pachon00/03MAIR-Algoritmos-de-optimizacion/blob/master/AG2-%20Actividad%20Guiada%202/Daniel_Brambila_AG2.ipynb\" target=\"_parent\"><img src=\"https://colab.research.google.com/assets/colab-badge.svg\" alt=\"Open In Colab\"/></a>"
      ]
    },
    {
      "metadata": {
        "id": "Kgbj4y6fHtE1",
        "colab_type": "code",
        "colab": {}
      },
      "cell_type": "code",
      "source": [
        "#Decorador para calcular_tiempo a la función para la cual queremos calcular el tiempo de ejecución(Isabel Vázquez)\n",
        "\n",
        "from time import time\n",
        "#Función para calcular el tiempo de ejecución\n",
        "def calcular_tiempo(f):\n",
        "   \n",
        "    def wrapper(*args, **kwargs):     \n",
        "        inicio = time()       \n",
        "        resultado = f(*args, **kwargs)       \n",
        "        tiempo = time() - inicio\n",
        "        print(\"Tiempo de ejecución para algoritmo: \"+str(tiempo))\n",
        "        return resultado\n",
        "    \n",
        "    return wrapper\n",
        "from time import time"
      ],
      "execution_count": 0,
      "outputs": []
    },
    {
      "metadata": {
        "id": "4CubX9yqH-fs",
        "colab_type": "text"
      },
      "cell_type": "markdown",
      "source": [
        "Daniel Enrique Brambila Rico - AG2 <br>\n",
        "Actividad Guiada<br>\n",
        "Url:[AG2](https://github.com/pachon00/03MAIR-Algoritmos-de-optimizacion/tree/master/AG2-%20Actividad%20Guiada%202)"
      ]
    },
    {
      "metadata": {
        "id": "c5pLF88YKCG9",
        "colab_type": "code",
        "colab": {
          "base_uri": "https://localhost:8080/",
          "height": 54
        },
        "outputId": "ec970211-b3b3-404e-9df5-af243b6791fe"
      },
      "cell_type": "code",
      "source": [
        "import math\n",
        "import random\n",
        "\n",
        "N=100\n",
        "LISTA_2D = [ (random.randrange(1,N*10),random.randrange(1,N*10) ) for _ in range(N)]\n",
        "\n",
        "print(LISTA_2D)"
      ],
      "execution_count": 8,
      "outputs": [
        {
          "output_type": "stream",
          "text": [
            "[(328, 492), (591, 276), (147, 644), (759, 619), (879, 411), (8, 935), (938, 494), (372, 113), (479, 978), (401, 47), (960, 136), (374, 412), (606, 33), (745, 199), (570, 922), (515, 955), (890, 256), (768, 742), (669, 721), (868, 778), (544, 715), (151, 890), (259, 965), (548, 346), (738, 142), (218, 880), (80, 543), (750, 19), (968, 275), (97, 541), (77, 839), (759, 757), (400, 147), (705, 300), (537, 762), (695, 943), (87, 84), (808, 625), (138, 441), (515, 70), (633, 822), (147, 758), (316, 827), (753, 289), (822, 520), (251, 354), (30, 113), (189, 89), (187, 525), (662, 790), (839, 330), (239, 430), (839, 434), (342, 510), (877, 676), (490, 467), (454, 104), (737, 552), (10, 729), (289, 497), (364, 564), (645, 22), (185, 620), (983, 428), (437, 569), (546, 656), (183, 160), (889, 22), (85, 828), (39, 785), (211, 207), (679, 960), (526, 421), (908, 470), (145, 794), (897, 548), (784, 555), (277, 362), (692, 207), (509, 858), (855, 171), (131, 352), (611, 109), (928, 901), (361, 84), (252, 249), (933, 174), (725, 248), (588, 445), (588, 736), (418, 425), (784, 616), (345, 214), (842, 122), (636, 793), (244, 980), (63, 231), (426, 721), (353, 464), (647, 703)]\n"
          ],
          "name": "stdout"
        }
      ]
    },
    {
      "metadata": {
        "id": "f4A29WX1ItJq",
        "colab_type": "code",
        "colab": {
          "base_uri": "https://localhost:8080/",
          "height": 34
        },
        "outputId": "082e911e-118b-46cf-94c7-0976aa03485b"
      },
      "cell_type": "code",
      "source": [
        "def distancia(A,B):\n",
        "  if type(A) is int or type(A) is float:\n",
        "    return abs(B-A)\n",
        "  else:\n",
        "    return math.sqrt(sum([(A[i]-B[i])**2 for i in range(len(A))]))\n",
        "  \n",
        "distancia((2,3),(2,5))"
      ],
      "execution_count": 7,
      "outputs": [
        {
          "output_type": "execute_result",
          "data": {
            "text/plain": [
              "2.0"
            ]
          },
          "metadata": {
            "tags": []
          },
          "execution_count": 7
        }
      ]
    },
    {
      "metadata": {
        "id": "vGfvFiE1LsnD",
        "colab_type": "code",
        "colab": {
          "base_uri": "https://localhost:8080/",
          "height": 34
        },
        "outputId": "3fed0810-6ad5-4a3d-c3dd-065cd10e5096"
      },
      "cell_type": "code",
      "source": [
        "def distancia_fuerza_bruta(L):\n",
        "  mejor_distancia = 100000e10\n",
        "  A,B = (),()\n",
        "  for i in range(len(L)):\n",
        "    for j in range(i+1 ,len(L)):\n",
        "      if distancia(L[i],L[j]) < mejor_distancia:\n",
        "        A, B = L[i], L[j]\n",
        "        mejor_distancia= distancia(L[i],L[j])\n",
        "        \n",
        "  return [A,B]\n",
        "\n",
        "distancia_fuerza_bruta(LISTA_2D)"
      ],
      "execution_count": 10,
      "outputs": [
        {
          "output_type": "execute_result",
          "data": {
            "text/plain": [
              "[(77, 839), (85, 828)]"
            ]
          },
          "metadata": {
            "tags": []
          },
          "execution_count": 10
        }
      ]
    },
    {
      "metadata": {
        "id": "3UcXczdbPr9a",
        "colab_type": "code",
        "colab": {
          "base_uri": "https://localhost:8080/",
          "height": 51
        },
        "outputId": "0ee4eba2-2d73-4f7f-bf8a-b5936d5145fe"
      },
      "cell_type": "code",
      "source": [
        "minimo = 10\n",
        "\n",
        "def distancia_divide_venceras(L):\n",
        "  #Si hay pocos por fuerza bruta\n",
        "  if len(L) < minimo:\n",
        "    return distancia_fuerza_bruta(L)\n",
        "  #Dividir en listas pequenas\n",
        "  pivote = sum([L[i][0] for i in range(len(L))]) / len(L)\n",
        "  #print(pivote)\n",
        "  \n",
        "  LISTA_IZQ = sorted(L, key=lambda x: x[0])[:len(L)//2]\n",
        "  LISTA_DER = sorted(L, key=lambda x: x[0])[len(L)//2:]\n",
        "  \n",
        "  PUNTOS_LISTA_IZQ = distancia_divide_venceras(LISTA_IZQ)\n",
        "  PUNTOS_LISTA_DER = distancia_divide_venceras(LISTA_DER)\n",
        "  \n",
        "  return distancia_fuerza_bruta(PUNTOS_LISTA_IZQ + PUNTOS_LISTA_DER)\n",
        "  \n",
        "  #print(LISTA_IZQ)\n",
        "  #print(LISTA_DER)\n",
        "  \n",
        "@calcular_tiempo  \n",
        "def LANZA(L):\n",
        "   return distancia_divide_venceras(L)    \n",
        " \n",
        "SOL = LANZA(LISTA_2D)\n",
        "print(SOL)\n"
      ],
      "execution_count": 21,
      "outputs": [
        {
          "output_type": "stream",
          "text": [
            "Tiempo de ejecución para algoritmo: 0.001287698745727539\n",
            "[(80, 543), (97, 541)]\n"
          ],
          "name": "stdout"
        }
      ]
    },
    {
      "metadata": {
        "id": "gcnmfTf4WL1q",
        "colab_type": "text"
      },
      "cell_type": "markdown",
      "source": [
        "**Problema del viajero / Paseo por el río**"
      ]
    },
    {
      "metadata": {
        "id": "htntrQ7LV1Zo",
        "colab_type": "code",
        "colab": {
          "base_uri": "https://localhost:8080/",
          "height": 139
        },
        "outputId": "c9bd31ef-d048-42dd-b9b6-7e564a6a1ee7"
      },
      "cell_type": "code",
      "source": [
        "TARIFAS = [\n",
        "[0,5,4,3,999,999,999],\n",
        "[999,0,999,2,3,999,11],\n",
        "[999,999, 0,1,999,4,10],\n",
        "[999,999,999, 0,5,6,9],\n",
        "[999,999, 999,999,0,999,4],\n",
        "[999,999, 999,999,999,0,3],\n",
        "[999,999,999,999,999,999,0]\n",
        "]\n",
        "\n",
        "def Precios(TARIFAS):\n",
        "  N = len(TARIFAS)\n",
        "  PRECIOS = [[9999]*N for i in [9999]*N]\n",
        "  RUTA = [[\"\"]*N for i in [9999]*N ]\n",
        "  \n",
        "  #print(PRECIOS)\n",
        "  #print(RUTA)\n",
        "  \n",
        "  for i in range(N-1):\n",
        "    for j in range(i+1,N):\n",
        "      MIN = TARIFAS[i][j]\n",
        "      RUTA[i][j] = i\n",
        "      \n",
        "      for k in range(i,j):\n",
        "        if PRECIOS[i][k] + TARIFAS[k][j] < MIN:\n",
        "          MIN = min(MIN, PRECIOS[i][k] + TARIFAS[k][j])\n",
        "          RUTA[i][j] = k\n",
        "      PRECIOS[i][j] = MIN\n",
        "    return PRECIOS, RUTA\n",
        "  \n",
        "PRECIOS, RUTAS = Precios(TARIFAS)\n",
        "\n",
        "print(PRECIOS)\n",
        "\n",
        "print()\n",
        "\n",
        "print(RUTAS)\n",
        "\n",
        "def calcular_ruta(RUTAS, desde, hasta):\n",
        "  if desde == hasta:\n",
        "    #print(\"Ir a :\" + str(desde))\n",
        "    return desde \n",
        "  else:\n",
        "    return str(calcular_ruta(RUTAS, desde, RUTAS[desde][hasta])) +  ',' + str(RUTAS[desde][hasta]) \n",
        "\n",
        "print(\"\\nLa ruta es:\")  \n",
        "calcular_ruta(RUTAS, 0,6)\n",
        "  \n",
        "  "
      ],
      "execution_count": 42,
      "outputs": [
        {
          "output_type": "stream",
          "text": [
            "[[9999, 5, 4, 3, 8, 8, 11], [9999, 9999, 9999, 9999, 9999, 9999, 9999], [9999, 9999, 9999, 9999, 9999, 9999, 9999], [9999, 9999, 9999, 9999, 9999, 9999, 9999], [9999, 9999, 9999, 9999, 9999, 9999, 9999], [9999, 9999, 9999, 9999, 9999, 9999, 9999], [9999, 9999, 9999, 9999, 9999, 9999, 9999]]\n",
            "\n",
            "[['', 0, 0, 0, 1, 2, 5], ['', '', '', '', '', '', ''], ['', '', '', '', '', '', ''], ['', '', '', '', '', '', ''], ['', '', '', '', '', '', ''], ['', '', '', '', '', '', ''], ['', '', '', '', '', '', '']]\n",
            "\n",
            "La ruta es:\n"
          ],
          "name": "stdout"
        },
        {
          "output_type": "execute_result",
          "data": {
            "text/plain": [
              "'0,0,2,5'"
            ]
          },
          "metadata": {
            "tags": []
          },
          "execution_count": 42
        }
      ]
    },
    {
      "metadata": {
        "id": "IDeq1Mo1WU_h",
        "colab_type": "code",
        "colab": {}
      },
      "cell_type": "code",
      "source": [
        ""
      ],
      "execution_count": 0,
      "outputs": []
    }
  ]
}