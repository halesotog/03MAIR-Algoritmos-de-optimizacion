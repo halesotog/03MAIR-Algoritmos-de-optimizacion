{
  "nbformat": 4,
  "nbformat_minor": 0,
  "metadata": {
    "colab": {
      "name": "ActividadGuiada1.ipynb",
      "version": "0.3.2",
      "provenance": [],
      "include_colab_link": true
    },
    "kernelspec": {
      "name": "python3",
      "display_name": "Python 3"
    }
  },
  "cells": [
    {
      "cell_type": "markdown",
      "metadata": {
        "id": "view-in-github",
        "colab_type": "text"
      },
      "source": [
        "<a href=\"https://colab.research.google.com/github/pachon00/03MAIR-Algoritmos-de-optimizacion/blob/master/ActividadGuiada1_V2.ipynb\" target=\"_parent\"><img src=\"https://colab.research.google.com/assets/colab-badge.svg\" alt=\"Open In Colab\"/></a>"
      ]
    },
    {
      "metadata": {
        "id": "tZOYDfq4bC2p",
        "colab_type": "code",
        "colab": {}
      },
      "cell_type": "code",
      "source": [
        ""
      ],
      "execution_count": 0,
      "outputs": []
    },
    {
      "metadata": {
        "id": "37LptndCbFPj",
        "colab_type": "text"
      },
      "cell_type": "markdown",
      "source": [
        "AG - Actividad Guiada 1<br>\n",
        "Daniel Enrique Brambila Rico<br>\n",
        "<b>Url:</b><href=https://github.com/pachon00/03MAIR-Algoritmos-de-optimizacion/tree/master/AG1-%20Actividad%20Guiada%201>"
      ]
    },
    {
      "metadata": {
        "id": "s00QSCoNcBeA",
        "colab_type": "code",
        "colab": {}
      },
      "cell_type": "code",
      "source": [
        "#quick_sort\n",
        "\n",
        "A = [9187, 244, 4054, 9222, 8373, 4993, 5265, 5470, 4519, 7182, 2035, 3506, 4337, 7580, 2554, 2824, 8357, 4447, 7379]\n",
        "\n",
        "def quick_sort(A):\n",
        "  if len(A) == 1:\n",
        "    return A\n",
        "  if len(A) == 2:\n",
        "    return [min(A),max(A)] \n",
        "  \n",
        "  IZQ=[]\n",
        "  DER=[]\n",
        "   \n",
        "  pivote = ( A[0] + A[1] + A[2] ) / 3 \n",
        "  \n",
        "  for i in A:\n",
        "    if i < pivote:\n",
        "      IZQ.append(i)\n",
        "    else:\n",
        "      DER.append(i)\n",
        "    \n",
        "  return quick_sort(IZQ) + quick_sort(DER)\n",
        "\n",
        "quick_sort(A)"
      ],
      "execution_count": 0,
      "outputs": []
    },
    {
      "metadata": {
        "id": "4-47VlsooFrR",
        "colab_type": "code",
        "colab": {
          "base_uri": "https://localhost:8080/",
          "height": 340
        },
        "outputId": "e3a18486-e0b2-496c-ac4d-155cbac32e6c"
      },
      "cell_type": "code",
      "source": [
        "#quick_sort_mejorado\n",
        "\n",
        "A = [9187, 244, 4054, 9222, 8373, 4993, 5265, 5470, 4519, 7182, 2035, 3506, 4337, 7580, 2554, 2824, 8357, 4447, 7379]\n",
        "\n",
        "def quick_sort_mejorado(A):\n",
        "  if len(A) == 1:\n",
        "    return A\n",
        "  if len(A) == 2:\n",
        "    if A[0]>=A[1]: #Modificación, se coloca if para mejorar función\n",
        "      return [A[1],A[0]]\n",
        "    else:\n",
        "      return [A[0],A[1]] \n",
        "  \n",
        "  IZQ_=[]\n",
        "  DER_=[]\n",
        "   \n",
        "  pivote = ( A[0] + A[1] + A[2] ) / 3 \n",
        "  \n",
        "  for i in A:\n",
        "    if i < pivote:\n",
        "      IZQ_.append(i)\n",
        "    else:\n",
        "      DER_.append(i)\n",
        "    \n",
        "  return quick_sort_mejorado(IZQ_) + quick_sort_mejorado(DER_)\n",
        "\n",
        "quick_sort_mejorado(A)"
      ],
      "execution_count": 31,
      "outputs": [
        {
          "output_type": "execute_result",
          "data": {
            "text/plain": [
              "[244,\n",
              " 2035,\n",
              " 2554,\n",
              " 2824,\n",
              " 3506,\n",
              " 4054,\n",
              " 4337,\n",
              " 4447,\n",
              " 4519,\n",
              " 4993,\n",
              " 5265,\n",
              " 5470,\n",
              " 7182,\n",
              " 7379,\n",
              " 7580,\n",
              " 8357,\n",
              " 8373,\n",
              " 9187,\n",
              " 9222]"
            ]
          },
          "metadata": {
            "tags": []
          },
          "execution_count": 31
        }
      ]
    },
    {
      "metadata": {
        "id": "AW8aReFHiP7C",
        "colab_type": "code",
        "colab": {}
      },
      "cell_type": "code",
      "source": [
        "#Decorador para calcular_tiempo a la función para la cual queremos calcular el tiempo de ejecución(Isabel Vázquez)\n",
        "\n",
        "from time import time\n",
        "#Función para calcular el tiempo de ejecución\n",
        "def calcular_tiempo(f):\n",
        "   \n",
        "    def wrapper(*args, **kwargs):     \n",
        "        inicio = time()       \n",
        "        resultado = f(*args, **kwargs)       \n",
        "        tiempo = time() - inicio\n",
        "        print(\"Tiempo de ejecución para algoritmo: \"+str(tiempo))\n",
        "        return resultado\n",
        "    \n",
        "    return wrapper\n",
        "from time import time"
      ],
      "execution_count": 0,
      "outputs": []
    },
    {
      "metadata": {
        "id": "Kj3YMq3CQoBw",
        "colab_type": "code",
        "colab": {
          "base_uri": "https://localhost:8080/",
          "height": 51
        },
        "outputId": "114724e2-993d-47b6-abbc-82f6178bc807"
      },
      "cell_type": "code",
      "source": [
        "@calcular_tiempo\n",
        "def QS(A):\n",
        "   return quick_sort(A)\n",
        "\n",
        "print(QS(A))"
      ],
      "execution_count": 23,
      "outputs": [
        {
          "output_type": "stream",
          "text": [
            "Tiempo de ejecución para algoritmo: 3.743171691894531e-05\n",
            "[244, 2035, 2554, 2824, 3506, 4054, 4337, 4447, 4519, 4993, 5265, 5470, 7182, 7379, 7580, 8357, 8373, 9187, 9222]\n"
          ],
          "name": "stdout"
        }
      ]
    },
    {
      "metadata": {
        "id": "ACQZHWkHoEBn",
        "colab_type": "code",
        "colab": {
          "base_uri": "https://localhost:8080/",
          "height": 51
        },
        "outputId": "b70023a7-4332-4947-a353-ca8dd1d975c2"
      },
      "cell_type": "code",
      "source": [
        "@calcular_tiempo\n",
        "def QS(A):\n",
        "   return quick_sort_mejorado(A)\n",
        "\n",
        "print(QS(A))"
      ],
      "execution_count": 24,
      "outputs": [
        {
          "output_type": "stream",
          "text": [
            "Tiempo de ejecución para algoritmo: 3.123283386230469e-05\n",
            "[244, 2035, 2554, 2824, 3506, 4054, 4337, 4447, 4519, 4993, 5265, 5470, 7182, 7379, 7580, 8357, 8373, 9187, 9222]\n"
          ],
          "name": "stdout"
        }
      ]
    },
    {
      "metadata": {
        "id": "Rzh8MSuAUX7U",
        "colab_type": "code",
        "colab": {
          "base_uri": "https://localhost:8080/",
          "height": 51
        },
        "outputId": "f951bb00-fa66-4c25-9295-b36ea1edc1b2"
      },
      "cell_type": "code",
      "source": [
        "SISTEMA = [25,10,5,1]\n",
        "\n",
        "@calcular_tiempo\n",
        "def cambio_monedas(CANTIDAD,SISTEMA):\n",
        "  SOLUCION=[0 for i in range(len(SISTEMA))]\n",
        "  \n",
        "  VALOR_ACUMULADO = 0\n",
        "  \n",
        "  for i in range(len(SISTEMA)):\n",
        "    monedas = int((CANTIDAD - VALOR_ACUMULADO)/SISTEMA[i])\n",
        "\n",
        "    SOLUCION[i] = monedas\n",
        "    VALOR_ACUMULADO += monedas*SISTEMA[i]\n",
        "    \n",
        "    if CANTIDAD == VALOR_ACUMULADO:\n",
        "      return SOLUCION\n",
        "    \n",
        "\n",
        "cambio_monedas(99,SISTEMA)"
      ],
      "execution_count": 3,
      "outputs": [
        {
          "output_type": "stream",
          "text": [
            "Tiempo de ejecución para algoritmo: 8.344650268554688e-06\n"
          ],
          "name": "stdout"
        },
        {
          "output_type": "execute_result",
          "data": {
            "text/plain": [
              "[3, 2, 0, 4]"
            ]
          },
          "metadata": {
            "tags": []
          },
          "execution_count": 3
        }
      ]
    },
    {
      "metadata": {
        "id": "Y2AXXHpWmYqC",
        "colab_type": "code",
        "colab": {
          "base_uri": "https://localhost:8080/",
          "height": 51
        },
        "outputId": "d84fe729-9788-4c2a-b80b-5ba9fd7f3e74"
      },
      "cell_type": "code",
      "source": [
        "SISTEMA = [25,10,5,1]\n",
        "\n",
        "@calcular_tiempo\n",
        "def cambio_monedas(CANTIDAD,SISTEMA):\n",
        "  #SOLUCION=[0 for i in range(TAMANO_SISTEMA)] \n",
        "  TAMANO_SISTEMA = len(SISTEMA) #se realiza para utilizarlo en todas las iteraciones\n",
        "  SOLUCION=list(range(TAMANO_SISTEMA))\n",
        "\n",
        "  VALOR_ACUMULADO = 0\n",
        "  \n",
        "  for i in range(TAMANO_SISTEMA):\n",
        "    SOLUCION[i]=0\n",
        "    monedas = (CANTIDAD - VALOR_ACUMULADO)//SISTEMA[i] #Se emplea operador // para divisiones enteras\n",
        "\n",
        "    SOLUCION[i] = monedas\n",
        "    VALOR_ACUMULADO += monedas*SISTEMA[i]\n",
        "    \n",
        "    if CANTIDAD == VALOR_ACUMULADO:\n",
        "      return SOLUCION\n",
        "    \n",
        "\n",
        "cambio_monedas(99,SISTEMA)"
      ],
      "execution_count": 32,
      "outputs": [
        {
          "output_type": "stream",
          "text": [
            "Tiempo de ejecución para algoritmo: 7.152557373046875e-06\n"
          ],
          "name": "stdout"
        },
        {
          "output_type": "execute_result",
          "data": {
            "text/plain": [
              "[3, 2, 0, 4]"
            ]
          },
          "metadata": {
            "tags": []
          },
          "execution_count": 32
        }
      ]
    },
    {
      "metadata": {
        "id": "u_Af3IePnmIC",
        "colab_type": "code",
        "colab": {
          "base_uri": "https://localhost:8080/",
          "height": 323
        },
        "outputId": "a09b551c-fe54-4a4e-8bd1-98c0588725db"
      },
      "cell_type": "code",
      "source": [
        "N = 4\n",
        "solucion = [0 for i in range(N)]\n",
        "etapa = 0\n",
        "\n",
        "def es_prometedora(SOLUCION, etapa):\n",
        "  for i in range(etapa+1):\n",
        "    if SOLUCION.count(SOLUCION[i]) > 1: return False\n",
        "  \n",
        "    for j in range(i+1,etapa +1):\n",
        "      if abs(i-j) == abs(SOLUCION[i] - SOLUCION[j]):  return False\n",
        "  return True\n",
        "\n",
        "@calcular_tiempo    \n",
        "def escribe(S):\n",
        "  n = len(S)\n",
        "  for x in range(n):\n",
        "    print(\"\")\n",
        "    for i in range(n):\n",
        "      if solucion[i] == x+1:\n",
        "        print(\" X \" , end=\"\")\n",
        "      else:\n",
        "        print(\" - \", end=\"\")\n",
        "\n",
        "    \n",
        "def reinas(N, solucion, etapa):\n",
        "  \n",
        "  for i in range(1,N+1):\n",
        "    solucion[etapa] = i\n",
        "    \n",
        "    if es_prometedora(solucion, etapa):\n",
        "      if etapa == N-1:\n",
        "        print('\\n\\n La solución es: ')\n",
        "        print(solucion)\n",
        "        escribe(solucion)\n",
        "      else:\n",
        "        reinas(N, solucion, etapa + 1)\n",
        "    else:\n",
        "      None\n",
        "    \n",
        "    solucion[etapa] = 0\n",
        "    \n",
        "\n",
        "reinas(N,solucion,etapa)"
      ],
      "execution_count": 81,
      "outputs": [
        {
          "output_type": "stream",
          "text": [
            "\n",
            "\n",
            " La solución es: \n",
            "[2, 4, 1, 3]\n",
            "\n",
            " -  -  X  - \n",
            " X  -  -  - \n",
            " -  -  -  X \n",
            " -  X  -  - Tiempo de ejecución para algoritmo: 0.002996683120727539\n",
            "\n",
            "\n",
            " La solución es: \n",
            "[3, 1, 4, 2]\n",
            "\n",
            " -  X  -  - \n",
            " -  -  -  X \n",
            " X  -  -  - \n",
            " -  -  X  - Tiempo de ejecución para algoritmo: 0.0018286705017089844\n"
          ],
          "name": "stdout"
        }
      ]
    }
  ]
}