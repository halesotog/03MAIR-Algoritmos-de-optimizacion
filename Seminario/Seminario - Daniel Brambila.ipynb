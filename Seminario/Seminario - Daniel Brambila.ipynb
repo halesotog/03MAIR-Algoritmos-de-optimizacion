{
 "cells": [
  {
   "cell_type": "markdown",
   "metadata": {
    "colab_type": "text",
    "id": "hVbXYX-RfPWh"
   },
   "source": [
    "# Algoritmos de optimización - Seminario<br>\n",
    "Nombre y Apellidos: Daniel Enrique Brambila Rico   <br>\n",
    "Url: https://github.com/pachon00/03MAIR-Algoritmos-de-optimizacion/tree/master/Seminario <br>\n",
    "Problema:\n",
    "> 1. Elección de grupos de población homogéneos <br>\n",
    ">2. Organizar los horarios de partidos de La Liga<br>\n",
    ">3. Combinar cifras y operaciones\n",
    "\n",
    "Descripción del problema:(copiar enunciado)\n",
    "\n",
    "- Una productora ganadera nos encarga la tarea de seleccionar grupos de terneros para aplicar 3 tratamientos diferentes. Para cada uno de los tratamientos debemos seleccionar 3 grupos de terneros que sean lo mas homogéneos posible en peso para que en los resultados del tratamiento influya lo menos posible el peso del animal. \n",
    "- Disponemos de una población de N animales entre machos y hembras • Se solicita diseñar un algoritmo para conseguir una agrupación que cumpla de la mejor manera posible las especificaciones de la productora\n",
    "- Aun se desconocen los datos concretos de los animales por lo que debemos trabajar con datos que debemos generar de forma aleatoria. Lo que si nos proporcionan es una plantilla de los datos:\n",
    "- Hemos podido averigua que el peso medio del ternero es 37kg con una desviación estándar de 2.1\n",
    "\n",
    "(*) La respuesta es obligatoria\n"
   ]
  },
  {
   "cell_type": "markdown",
   "metadata": {
    "colab_type": "text",
    "id": "3_-exlrTgLd-"
   },
   "source": [
    "(*)¿Cuantas posibilidades hay sin tener en cuenta las restricciones?<br>\n",
    "\n",
    "\n",
    "\n",
    "¿Cuantas posibilidades hay teniendo en cuenta todas las restricciones.\n",
    "\n",
    "\n"
   ]
  },
  {
   "cell_type": "markdown",
   "metadata": {
    "colab": {},
    "colab_type": "code",
    "id": "bqlnfPW4KKG1"
   },
   "source": [
    "__Respuesta 1__\n",
    "\n",
    "_Para determinar la cantidad de posibilidades disponibles para este problema es necesario contar el tamaño que asignaremos a cada uno de los grupos de k elementos de una población N.\n",
    "\n",
    "_Siempre se generarán 3 grupos en donde el primer animal es N-1, el segundo N-2 y así continua hasta completar el tamaño k del grupo.\n",
    "\n",
    "N! / k! (N-k)!\n"
   ]
  },
  {
   "cell_type": "markdown",
   "metadata": {
    "colab_type": "text",
    "id": "WfCUqJyKhPcw"
   },
   "source": [
    "__Respuesta 2__\n",
    "\n",
    "_Tomando en cuenta que la población tiene un peso promedio de 37Kg y una desviación estándar de 2.1 \n",
    "_La principal restricción que nos afectara es el sexo de los animales ya que los grupos deben ser disjuntos. Y si asumimos que la población será 50-50 la cantidad de hembras = NH cantidad de manchos = NM grupos posibles = GP = 9!\n",
    "Las posibilidades totales son: (( NH! / (NH -k)! ) * 9! ) + ( ( NM! / (NM -k)! ) * 9! )\n",
    "\n"
   ]
  },
  {
   "cell_type": "markdown",
   "metadata": {
    "colab": {},
    "colab_type": "code",
    "id": "iq6Fe32MgpDX"
   },
   "source": []
  },
  {
   "cell_type": "markdown",
   "metadata": {
    "colab_type": "text",
    "id": "dzynfVJahHoY"
   },
   "source": [
    "Modelo para el espacio de soluciones<br>\n",
    "(*) ¿Cual es la estructura de datos que mejor se adapta al problema? Argumentalo.(Es posible que hayas elegido una al principio y veas la necesidad de cambiar, arguentalo)\n"
   ]
  },
  {
   "cell_type": "markdown",
   "metadata": {
    "colab_type": "text",
    "id": "xFIJrOwKi2Ti"
   },
   "source": [
    "Respuesta\n",
    "\n",
    "___Estructura___\n",
    "La estructura que se utilizara para abordar el problema es:\n",
    "\n",
    "Se generara un diccionario que utilizara como clave \"grupo, tratamiento\"\n",
    "    *Los tratamientos están definidos como \"A\", \"B\" y \"C\"\n",
    "    *los grupos se definen de acuerdo a la cantidad de terneros que deben formar 9 grupos causando el menor desperdicio posible.\n",
    "    *Cada clave del diccionario contendrá una lista en la cual serán almacenados diccionarios que continen \"id, peso\" de cada ternero agregado al conjunto.\n",
    "\n",
    "___Diseño___\n",
    "Si bien la resolución del problema puede ser dada mediante fuerza bruta con un algoritmo voraz con regreso, la cantidad de permutaciones es muy alta y pueden existir múltiples soluciones por lo que yo optaría por una solución Meta heurística.\n",
    "\n",
    "Al requerir generar distintas combinatorias y posteriormente conservar las mejores optare por utilizar el Recocido Simulado.\n",
    "* Se requiere generar diversos grupos de soluciones factibles\n",
    "* Se busca minimizar la desviación estándar\n",
    "* La distribución de probabilidad de los datos es uno de los parámetros para este algoritmo y al tener una distribución normal esto representa una certeza de que con forme se avance en el tiempo se encontraran mejores resultados.\n",
    "\n",
    "\n",
    "Algoritmos de búsqueda\n",
    "Utilizando la técnica de ramificación y poda podremos explorar las soluciones de manera exhaustiva  y de este modo seleccionar los grupos que minimicen nuestra función objetivo (en este caso homogeneizar el peso).\n"
   ]
  },
  {
   "cell_type": "code",
   "execution_count": 0,
   "metadata": {
    "colab": {},
    "colab_type": "code",
    "id": "38c-7-ejhJmA",
    "slideshow": {
     "slide_type": "slide"
    }
   },
   "outputs": [],
   "source": []
  },
  {
   "cell_type": "markdown",
   "metadata": {
    "colab_type": "text",
    "id": "7Z9U2W7bi-XS",
    "slideshow": {
     "slide_type": "slide"
    }
   },
   "source": [
    "Según el modelo para el espacio de soluciones<br>\n",
    "(*)¿Cual es la función objetivo?\n",
    "\n",
    "(*)¿Es un problema de maximización o minimización?"
   ]
  },
  {
   "cell_type": "markdown",
   "metadata": {
    "colab_type": "text",
    "id": "hBalWLM7j1_d"
   },
   "source": [
    "Respuesta\n",
    "f(y) = x + y = 0\n",
    "\n",
    "Donde mientras la sumatoria de x(media) más y(desviación) tiendan a 0  el acierto aumentara.\n",
    "\n",
    "Minimización de la desviación estándar y media del peso en grupos de animales, al integrar las dos variables en una función de acierto se buscará maximizar el acierto.\n"
   ]
  },
  {
   "cell_type": "markdown",
   "metadata": {
    "colab_type": "text",
    "id": "rlnTYgY1j6I2"
   },
   "source": [
    "Diseña un algoritmo para resolver el problema por fuerza bruta"
   ]
  },
  {
   "cell_type": "markdown",
   "metadata": {
    "colab_type": "text",
    "id": "70rDgxYXkC8r"
   },
   "source": [
    "Respuesta"
   ]
  },
  {
   "cell_type": "code",
   "execution_count": 1109,
   "metadata": {
    "ExecuteTime": {
     "end_time": "2019-03-12T06:00:42.637072Z",
     "start_time": "2019-03-12T06:00:42.628395Z"
    },
    "slideshow": {
     "slide_type": "slide"
    }
   },
   "outputs": [],
   "source": [
    "import math\n",
    "import random \n",
    "import numpy as np\n",
    "import scipy.stats as st\n",
    "import pandas as pd\n",
    "\n",
    "mu, sigma, N = 37, 1.2, 100\n",
    "\n",
    "# mean and standard deviation\n",
    "s = np.random.normal(mu, sigma, 500)\n",
    "abs(sigma - np.std(s, ddof=1)) < 1.2\n",
    "ID =  [i for i in range(N)]\n",
    "ANIMALES = [( range(0,N),np.random.normal(mu, sigma, N), ['M' if random.randint(0, 1) else 'H' for p in range(0, N)])]\n",
    "\n",
    "ANIMALES_DIC = {\n",
    "    'ID': ID,\n",
    "    'WEIGTH': np.random.normal(mu, sigma, N),\n",
    "    'SEXO': ['M' if random.randint(0, 1) else 'H' for p in range(0, N)]\n",
    "}\n",
    "data = pd.DataFrame(ANIMALES_DIC)"
   ]
  },
  {
   "cell_type": "code",
   "execution_count": 1110,
   "metadata": {
    "ExecuteTime": {
     "end_time": "2019-03-12T06:00:45.555883Z",
     "start_time": "2019-03-12T06:00:45.551214Z"
    },
    "slideshow": {
     "slide_type": "slide"
    }
   },
   "outputs": [],
   "source": [
    "data_hembras = data[data[\"SEXO\"] == \"H\"]\n",
    "data_machos = data[data[\"SEXO\"] == \"M\"]"
   ]
  },
  {
   "cell_type": "code",
   "execution_count": 1111,
   "metadata": {
    "ExecuteTime": {
     "end_time": "2019-03-12T06:00:50.420749Z",
     "start_time": "2019-03-12T06:00:50.414525Z"
    }
   },
   "outputs": [
    {
     "name": "stdout",
     "output_type": "stream",
     "text": [
      "cantidad de animales que se pueden completar de hembras: 5\n",
      "cantidad de animales que se pueden completar de machos: 5\n"
     ]
    }
   ],
   "source": [
    "sizeOfGroupH = data_hembras[\"ID\"].count() // 9\n",
    "sizeOfGroupM = data_machos[\"ID\"].count() // 9\n",
    "print(\"cantidad de animales que se pueden completar de hembras: \" + str(sizeOfGroupH))\n",
    "print(\"cantidad de animales que se pueden completar de machos: \" + str(sizeOfGroupM))"
   ]
  },
  {
   "cell_type": "code",
   "execution_count": 1234,
   "metadata": {
    "ExecuteTime": {
     "end_time": "2019-03-13T07:04:10.201077Z",
     "start_time": "2019-03-13T07:04:10.194056Z"
    }
   },
   "outputs": [
    {
     "data": {
      "text/plain": [
       "59.96545790050563"
      ]
     },
     "execution_count": 1234,
     "metadata": {},
     "output_type": "execute_result"
    }
   ],
   "source": [
    "def calcula_acierto(a,data):\n",
    "    gMean = np.mean(data)\n",
    "    gMax = np.max(data)\n",
    "    med = abs(gMean-np.mean(a))/gMax\n",
    "    desvA = np.std(a)\n",
    "    acierto = 1 - (desvA + med)\n",
    "    return acierto*100\n",
    "\n",
    "#a = [35, 37, 36.81577361560864, 36.282106226906095, 37.28059470812348]\n",
    "a=[37.295650355551906, 37.28910712692943, 36.81577361560864, 36.282106226906095, 37.28059470812348]\n",
    "calcula_acierto(a,data_machos['WEIGTH'])"
   ]
  },
  {
   "cell_type": "code",
   "execution_count": 1222,
   "metadata": {
    "ExecuteTime": {
     "end_time": "2019-03-13T00:02:00.675828Z",
     "start_time": "2019-03-13T00:02:00.439832Z"
    }
   },
   "outputs": [
    {
     "data": {
      "image/png": "[encoded data removed]",
      "text/plain": [
       "<Figure size 432x288 with 1 Axes>"
      ]
     },
     "metadata": {
      "needs_background": "light"
     },
     "output_type": "display_data"
    }
   ],
   "source": [
    "import matplotlib.pyplot as plt\n",
    "count, bins, ignored = plt.hist(s, 50, normed=True)\n",
    "plt.plot(bins, 1/(sigma * np.sqrt(2 * np.pi)) *\n",
    "         np.exp( - (bins - mu)**2 / (2 * sigma**2) ),\n",
    "         linewidth=2, color='r')\n",
    "plt.show()"
   ]
  },
  {
   "cell_type": "code",
   "execution_count": 1113,
   "metadata": {
    "ExecuteTime": {
     "end_time": "2019-03-12T06:01:01.895367Z",
     "start_time": "2019-03-12T06:01:01.888227Z"
    }
   },
   "outputs": [
    {
     "name": "stdout",
     "output_type": "stream",
     "text": [
      "indice 0 Grupo: 1 Tratamiento: A \n",
      "indice 1 Grupo: 1 Tratamiento: B \n",
      "indice 2 Grupo: 1 Tratamiento: C \n",
      "indice 3 Grupo: 2 Tratamiento: A \n",
      "indice 4 Grupo: 2 Tratamiento: B \n",
      "indice 5 Grupo: 2 Tratamiento: C \n",
      "indice 6 Grupo: 3 Tratamiento: A \n",
      "indice 7 Grupo: 3 Tratamiento: B \n",
      "indice 8 Grupo: 3 Tratamiento: C \n"
     ]
    }
   ],
   "source": [
    "tratamiento = [\"A\", \"B\", \"C\"]\n",
    "grupos = [1,2,3]\n",
    "dic_grupos = dict()\n",
    "a=[]\n",
    "\n",
    "j=0\n",
    "for i in grupos:\n",
    "    for t in tratamiento:\n",
    "       a.append((i,t))\n",
    "       print(\"indice \"+str(j) +\" Grupo: \"+ str(i)+ \" Tratamiento: \" +str(t) +\" \")\n",
    "       dic_grupos[a[j]] = list([[]])\n",
    "       j+=1  "
   ]
  },
  {
   "cell_type": "code",
   "execution_count": 1286,
   "metadata": {
    "ExecuteTime": {
     "end_time": "2019-03-13T07:35:32.259038Z",
     "start_time": "2019-03-13T07:35:32.246757Z"
    }
   },
   "outputs": [],
   "source": [
    "import copy as c\n",
    "\n",
    "ids= []\n",
    "weigths=[]\n",
    "grupo_test=[ids,weigths]\n",
    "resultados = []\n",
    "\n",
    "\n",
    "def agrega_ternero(idx2,L):\n",
    "    grupo_test[1].append(L.iloc[idx2]['WEIGTH'])\n",
    "    grupo_test[0].append(L.iloc[idx2]['ID'])\n",
    "\n",
    "def calcula_acierto(a,Gmean,Gmax):\n",
    "    med = abs(Gmean-np.mean(a))/Gmax\n",
    "    desvA = np.std(a)\n",
    "    acierto = 100 - (desvA + med)\n",
    "    return acierto\n",
    "\n",
    "def arma_combinaciones(L,Gmean,Gmax):\n",
    "    mejor_combinacion=[999,40,555,40,222]\n",
    "    peso_init=9999\n",
    "    acum=0\n",
    "    for idx in range(len(L)):\n",
    "        for idx2 in range(idx+1,len(L)):\n",
    "            if len(grupo_test[0]) == 0:\n",
    "                acum=0\n",
    "                agrega_ternero(idx,L)\n",
    "                acum += L.iloc[idx]['WEIGTH']\n",
    "            if len(grupo_test[0]) < sizeOfGroupH:\n",
    "                agrega_ternero(idx2,L)\n",
    "                acum += L.iloc[idx2]['WEIGTH']\n",
    "            else:\n",
    "                if calcula_acierto(grupo_test[0],Gmean,Gmax) > calcula_acierto(mejor_combinacion,Gmean,Gmax):\n",
    "                    mejor_combinacion = grupo_test.copy()\n",
    "                    grupo_test[0].clear()\n",
    "                    grupo_test[1].clear()\n",
    "                    peso_init = acum\n",
    "    \n",
    "    return mejor_combinacion\n",
    "\n",
    "def forma_grupos(L):\n",
    "    k=0\n",
    "    gMean = np.mean(L['WEIGTH'])\n",
    "    gMax = np.max(L['WEIGTH'])\n",
    "    for i in dic_grupos:\n",
    "        dic_grupos[i] = c.deepcopy((arma_combinaciones(L,gMean,gMax)))\n",
    "        print(dic_grupos[i])\n",
    "        print('Acierto ' + str(calcula_acierto(dic_grupos[i][1],gMean,gMax)))\n",
    "        L = L.drop(dic_grupos[i][0][0])\n",
    "        k+=1\n",
    "    return 0\n"
   ]
  },
  {
   "cell_type": "code",
   "execution_count": 1287,
   "metadata": {
    "ExecuteTime": {
     "end_time": "2019-03-13T07:35:37.882096Z",
     "start_time": "2019-03-13T07:35:34.748716Z"
    }
   },
   "outputs": [
    {
     "name": "stdout",
     "output_type": "stream",
     "text": [
      "cantidad de animales que se pueden completar de hembras: 5\n",
      "cantidad de animales que se pueden completar de machos: 5\n",
      "\n",
      "Machos\n",
      "\n",
      "[[2, 25, 27, 29, 30], [35.295650355551906, 36.10078774860924, 38.32885153089908, 39.22529195658598, 37.29727476364766]]\n",
      "Acierto 98.56548486145559\n",
      "[[3, 29, 30, 32, 33], [37.79239665788847, 39.22529195658598, 37.29727476364766, 36.165708621661395, 36.9865331101901]]\n",
      "Acierto 98.97374981936157\n",
      "[[4, 30, 32, 33, 34], [40.67701420055017, 37.29727476364766, 36.165708621661395, 36.9865331101901, 37.44553915961832]]\n",
      "Acierto 98.43684436826024\n",
      "[[5, 32, 33, 34, 37], [36.1857125988163, 36.165708621661395, 36.9865331101901, 37.44553915961832, 36.936447129377626]]\n",
      "Acierto 99.49641886645198\n",
      "[[6, 33, 34, 37, 39], [36.87631871121993, 36.9865331101901, 37.44553915961832, 36.936447129377626, 36.68375662805823]]\n",
      "Acierto 99.74737704002241\n",
      "[[7, 27, 29, 30, 32], [39.817378061787814, 38.32885153089908, 39.22529195658598, 37.29727476364766, 36.165708621661395]]\n",
      "Acierto 98.6578978190257\n",
      "[[8, 29, 30, 32, 33], [33.69638984309539, 39.22529195658598, 37.29727476364766, 36.165708621661395, 36.9865331101901]]\n",
      "Acierto 98.19598150406797\n",
      "[[10, 30, 32, 33, 34], [37.408095798827674, 37.29727476364766, 36.165708621661395, 36.9865331101901, 37.44553915961832]]\n",
      "Acierto 99.52332259993864\n",
      "[[11, 32, 33, 34, 37], [37.07090784570939, 36.165708621661395, 36.9865331101901, 37.44553915961832, 36.936447129377626]]\n",
      "Acierto 99.57982648427834\n",
      "\n",
      "Hembras\n",
      "\n",
      "[[0, 35, 36, 38, 40], [36.82395795531876, 37.008032178196316, 36.05801180654406, 34.557929513904384, 35.90979416676397]]\n",
      "Acierto 99.11671734741027\n",
      "[[1, 24, 26, 28, 31], [36.76328579448659, 37.20579265112552, 36.271311065969044, 37.37315615559564, 36.20998921523774]]\n",
      "Acierto 99.5263196918234\n",
      "[[9, 26, 28, 31, 35], [37.37230304292237, 36.271311065969044, 37.37315615559564, 36.20998921523774, 37.008032178196316]]\n",
      "Acierto 99.48367661243357\n",
      "[[12, 28, 31, 35, 36], [34.613841573684695, 37.37315615559564, 36.20998921523774, 37.008032178196316, 36.05801180654406]]\n",
      "Acierto 99.03437498087337\n",
      "[[16, 31, 35, 36, 38], [37.51412826763849, 36.20998921523774, 37.008032178196316, 36.05801180654406, 34.557929513904384]]\n",
      "Acierto 98.98169828765795\n",
      "[[20, 35, 36, 38, 40], [36.06408200808948, 37.008032178196316, 36.05801180654406, 34.557929513904384, 35.90979416676397]]\n",
      "Acierto 99.19543829576168\n",
      "[[21, 36, 38, 40, 42], [37.39952329426956, 36.05801180654406, 34.557929513904384, 35.90979416676397, 36.84281125852757]]\n",
      "Acierto 99.02246067338946\n",
      "[[23, 38, 40, 42, 44], [36.248856090701686, 34.557929513904384, 35.90979416676397, 36.84281125852757, 37.96499209017721]]\n",
      "Acierto 98.87117240658222\n",
      "[[24, 28, 31, 35, 36], [37.20579265112552, 37.37315615559564, 36.20998921523774, 37.008032178196316, 36.05801180654406]]\n",
      "Acierto 99.46362721424792\n"
     ]
    }
   ],
   "source": [
    "data_hembras = data[data[\"SEXO\"] == \"H\"]\n",
    "data_machos = data[data[\"SEXO\"] == \"M\"]\n",
    "\n",
    "sizeOfGroupH = data_hembras[\"ID\"].count() // 9\n",
    "sizeOfGroupM = data_machos[\"ID\"].count() // 9\n",
    "print(\"cantidad de animales que se pueden completar de hembras: \" + str(sizeOfGroupH))\n",
    "print(\"cantidad de animales que se pueden completar de machos: \" + str(sizeOfGroupM))\n",
    "\n",
    "print('\\nMachos\\n')\n",
    "res = forma_grupos(data_machos)\n",
    "print('\\nHembras\\n')\n",
    "res2 = forma_grupos(data_hembras)\n"
   ]
  },
  {
   "cell_type": "markdown",
   "metadata": {
    "colab_type": "text",
    "id": "tgrnsC2nkFa8"
   },
   "source": [
    "Calcula la complejidad del algoritmo por fuerza bruta"
   ]
  },
  {
   "cell_type": "markdown",
   "metadata": {
    "colab_type": "text",
    "id": "9eUd3xwckP68"
   },
   "source": [
    "n(n-1)!\n",
    "A esta complejidad habría que sumar la de c.deepcopy ya que esta función realiza una copia recursiva de los objetos dentro de la lista.\n",
    "n(n-1)!*n"
   ]
  },
  {
   "cell_type": "markdown",
   "metadata": {
    "colab_type": "text",
    "id": "txbrmLmskReM"
   },
   "source": [
    "(*)Diseña un algoritmo que mejore la complejidad del algortimo por fuerza bruta. Argumenta porque crees que mejora el algoritmo por fuerza bruta"
   ]
  },
  {
   "cell_type": "markdown",
   "metadata": {
    "colab_type": "text",
    "id": "hLrVwt5QkZPD"
   },
   "source": [
    "Respuesta"
   ]
  },
  {
   "cell_type": "code",
   "execution_count": 1297,
   "metadata": {
    "ExecuteTime": {
     "end_time": "2019-03-13T07:51:11.295887Z",
     "start_time": "2019-03-13T07:51:09.184783Z"
    },
    "colab": {},
    "colab_type": "code",
    "id": "m1eyM21Vkabg"
   },
   "outputs": [
    {
     "name": "stdout",
     "output_type": "stream",
     "text": [
      "La mejor solución encontrada es [2, 67, 83, 80, 14]\n",
      "con una acierto total de 99.70593087359651\n"
     ]
    }
   ],
   "source": [
    "\n",
    "import random\n",
    "from math import e\n",
    "\n",
    "#Se genera una solucion aleatoria con comienzo en en el nodo 0\n",
    "def crear_solucion(Nodos):\n",
    "    solucion = [Nodos.iloc[0]]\n",
    "    for i in range(sizeOfGroupH-1):\n",
    "        solucion = solucion + [random.choice(list(set(Nodos) - set({0}) - set(solucion)))]\n",
    "    return solucion \n",
    "\n",
    "def calcula_acierto(a,Gmean,Gmax):\n",
    "    med = abs(Gmean-np.mean(a))/Gmax\n",
    "    desvA = np.std(a)\n",
    "    acierto = 100 - (desvA + med)\n",
    "    return acierto\n",
    "\n",
    "def genera_vecina_aleatorio(solucion,universe):\n",
    "    i = random.choice(range(1, len(solucion)) )\n",
    "    j = random.choice( list(set(universe)-set(solucion)) )\n",
    "    vecina = solucion.copy()\n",
    "    vecina[i] = universe[j]\n",
    "    return vecina\n",
    "\n",
    "def probabilidad(T,d):\n",
    "    r=random.random();\n",
    "    if(r <= (e**(-1*d)/(T*1.0))):\n",
    "        return True\n",
    "    else:\n",
    "        return False\n",
    "\n",
    "def bajar_temperatura(T):\n",
    "    return T-1\n",
    "\n",
    "def recocido_simulado(problem, TEMPERATURA,gMean,gMax):\n",
    "    mejor_solucion = []\n",
    "    mejor_acierto =0\n",
    "\n",
    "    solution = crear_solucion(problem['ID'])\n",
    "    #problem['WEIGTH'][solution].sum()\n",
    "    ac_ini = calcula_acierto(problem['WEIGTH'][solution],gMean,gMax)\n",
    "    \n",
    "    while TEMPERATURA > 0:    \n",
    "        vecAleatory = genera_vecina_aleatorio(solution,problem['ID'])\n",
    "        ac_vec = calcula_acierto(problem['WEIGTH'][vecAleatory],gMean,gMax)\n",
    "\n",
    "        #Si es la mejor solución de todas se guarda\n",
    "        if ac_vec > mejor_acierto:\n",
    "            mejor_solucion = vecAleatory\n",
    "            mejor_acierto = ac_vec\n",
    "    \n",
    "        #Si la nueva vecina es mejor se cambia y si es peor se cambia según una probabilidad dependiente de T y de |distancia_referencia - distancia_vecina|\n",
    "        if ac_vec > ac_ini or probabilidad(TEMPERATURA, abs(ac_ini - ac_vec) ) :\n",
    "            solution = vecAleatory\n",
    "            ac_ini = ac_vec\n",
    "\n",
    "        TEMPERATURA = bajar_temperatura(TEMPERATURA)\n",
    "    \n",
    "    print(\"La mejor solución encontrada es \" , end=\"\")\n",
    "    print(mejor_solucion)\n",
    "    print(\"con una acierto total de \" , end=\"\")\n",
    "    print(mejor_acierto)\n",
    "    return mejor_solucion   \n",
    "\n",
    "def lanza_rec(L,temperatura):\n",
    "    gMean = np.mean(L['WEIGTH'])\n",
    "    gMax = np.max(L['WEIGTH'])\n",
    "    for i in dic_grupos:\n",
    "        dic_grupos[i] = c.deepcopy(recocido_simulado(L,temperatura,gMean,gMax))\n",
    "        L = L.drop(dic_grupos[i])\n",
    "\n",
    "sol = recocido_simulado(data_machos, 1000, 37.01, 40.67)"
   ]
  },
  {
   "cell_type": "markdown",
   "metadata": {
    "colab_type": "text",
    "id": "eGDB4K6uk1iN"
   },
   "source": [
    "(*)Calcula la complejidad del algoritmo "
   ]
  },
  {
   "cell_type": "markdown",
   "metadata": {
    "colab_type": "text",
    "id": "NhpTh_BPk1ms"
   },
   "source": [
    "Respuesta"
   ]
  },
  {
   "cell_type": "markdown",
   "metadata": {
    "ExecuteTime": {
     "end_time": "2019-03-13T08:20:53.561384Z",
     "start_time": "2019-03-13T08:20:53.556395Z"
    },
    "colab": {},
    "colab_type": "code",
    "id": "nREzhkStlCq8"
   },
   "source": [
    "La complejidad del algoritmo es Log(n) ya que aunque cambie la población del grupo, siempre tendremos que disminuir la temperatura mediante un número de iteraciones.\n"
   ]
  },
  {
   "cell_type": "markdown",
   "metadata": {
    "colab_type": "text",
    "id": "3M6QjTsSkmYe"
   },
   "source": [
    "Según el problema (y tenga sentido), diseña un juego de datos de entrada aleatorios"
   ]
  },
  {
   "cell_type": "markdown",
   "metadata": {
    "colab_type": "text",
    "id": "Jc3_OlyNkvjZ"
   },
   "source": [
    "Respuesta"
   ]
  },
  {
   "cell_type": "code",
   "execution_count": 0,
   "metadata": {
    "colab": {},
    "colab_type": "code",
    "id": "sJ-N2etjkyWc"
   },
   "outputs": [],
   "source": [
    "import math\n",
    "import random \n",
    "import numpy as np\n",
    "import scipy.stats as st\n",
    "import pandas as pd\n",
    "\n",
    "mu, sigma, N = 37, 1.2, 100\n",
    "\n",
    "# mean and standard deviation\n",
    "s = np.random.normal(mu, sigma, 500)\n",
    "abs(sigma - np.std(s, ddof=1)) < 1.2\n",
    "ID =  [i for i in range(N)]\n",
    "ANIMALES = [( range(0,N),np.random.normal(mu, sigma, N), ['M' if random.randint(0, 1) else 'H' for p in range(0, N)])]\n",
    "\n",
    "ANIMALES_DIC = {\n",
    "    'ID': ID,\n",
    "    'WEIGTH': np.random.normal(mu, sigma, N),\n",
    "    'SEXO': ['M' if random.randint(0, 1) else 'H' for p in range(0, N)]\n",
    "}\n",
    "data = pd.DataFrame(ANIMALES_DIC)"
   ]
  },
  {
   "cell_type": "markdown",
   "metadata": {
    "colab_type": "text",
    "id": "zy5ZROmjlGo1"
   },
   "source": [
    "Aplica el algoritmo al juego de datos generado"
   ]
  },
  {
   "cell_type": "markdown",
   "metadata": {
    "colab_type": "text",
    "id": "_Cmj-PVylMsa"
   },
   "source": [
    "Respuesta"
   ]
  },
  {
   "cell_type": "code",
   "execution_count": 1298,
   "metadata": {
    "ExecuteTime": {
     "end_time": "2019-03-13T08:01:58.751540Z",
     "start_time": "2019-03-13T08:01:20.345500Z"
    },
    "colab": {},
    "colab_type": "code",
    "id": "Jkx8GeiYlUz1"
   },
   "outputs": [
    {
     "name": "stdout",
     "output_type": "stream",
     "text": [
      "cantidad de animales que se pueden completar de hembras: 5\n",
      "cantidad de animales que se pueden completar de machos: 5\n",
      "\n",
      " Machos \n",
      "\n",
      "La mejor solución encontrada es [2, 67, 14, 83, 80]\n",
      "con una acierto total de 99.70570929139714\n",
      "La mejor solución encontrada es [3, 78, 93, 34, 10]\n",
      "con una acierto total de 99.84698924622779\n",
      "La mejor solución encontrada es [4, 65, 77, 7, 29]\n",
      "con una acierto total de 99.37882779686572\n",
      "La mejor solución encontrada es [5, 25, 41, 32, 91]\n",
      "con una acierto total de 99.94175452251149\n",
      "La mejor solución encontrada es [6, 73, 87, 58, 37]\n",
      "con una acierto total de 99.97176947340135\n",
      "La mejor solución encontrada es [8, 96, 86, 18, 90]\n",
      "con una acierto total de 98.83497763484213\n",
      "La mejor solución encontrada es [11, 98, 13, 62, 33]\n",
      "con una acierto total de 99.94069769882017\n",
      "La mejor solución encontrada es [15, 30, 68, 19, 88]\n",
      "con una acierto total de 99.97733918407579\n",
      "La mejor solución encontrada es [17, 97, 43, 22, 55]\n",
      "con una acierto total de 99.47249565217068\n",
      "\n",
      " Hembras \n",
      "\n",
      "La mejor solución encontrada es [0, 1, 51, 57, 42]\n",
      "con una acierto total de 99.93452734012418\n",
      "La mejor solución encontrada es [9, 28, 69, 92, 21]\n",
      "con una acierto total de 99.9235760138642\n",
      "La mejor solución encontrada es [12, 85, 56, 81, 49]\n",
      "con una acierto total de 99.64287524010903\n",
      "La mejor solución encontrada es [16, 47, 24, 61, 74]\n",
      "con una acierto total de 99.8565093439643\n",
      "La mejor solución encontrada es [20, 99, 94, 71, 36]\n",
      "con una acierto total de 99.95714304656602\n",
      "La mejor solución encontrada es [23, 46, 84, 53, 66]\n",
      "con una acierto total de 99.87429455716345\n",
      "La mejor solución encontrada es [26, 40, 54, 31, 59]\n",
      "con una acierto total de 99.82565888496053\n",
      "La mejor solución encontrada es [35, 45, 95, 89, 82]\n",
      "con una acierto total de 99.67517021766966\n",
      "La mejor solución encontrada es [38, 44, 50, 79, 76]\n",
      "con una acierto total de 98.4204582090104\n"
     ]
    }
   ],
   "source": [
    "data_hembras = data[data[\"SEXO\"] == \"H\"]\n",
    "data_machos = data[data[\"SEXO\"] == \"M\"]\n",
    "\n",
    "sizeOfGroupH = data_hembras[\"ID\"].count() // 9\n",
    "sizeOfGroupM = data_machos[\"ID\"].count() // 9\n",
    "print(\"cantidad de animales que se pueden completar de hembras: \" + str(sizeOfGroupH))\n",
    "print(\"cantidad de animales que se pueden completar de machos: \" + str(sizeOfGroupM))\n",
    "\n",
    "print('\\n Machos \\n')\n",
    "lanza_rec(data_machos,1000)\n",
    "print('\\n Hembras \\n')\n",
    "lanza_rec(data_hembras,1000)"
   ]
  },
  {
   "cell_type": "markdown",
   "metadata": {
    "colab_type": "text",
    "id": "eTFWUJQrtGcv"
   },
   "source": [
    "Enumera las referencias que has utilizado(si ha sido necesario) para llevar a cabo el trabajo"
   ]
  },
  {
   "cell_type": "markdown",
   "metadata": {
    "colab_type": "text",
    "id": "YKQ_mRBttWsP"
   },
   "source": [
    "Respuesta\n",
    "https://es.wikipedia.org/wiki/Coeficiente_binomial\n",
    "\n",
    "Trabajo con diccionarios y listas\n",
    "https://www.datacamp.com/community/tutorials/18-most-common-python-list-questions-learn-python?utm_source=adwords_ppc&utm_campaignid=1455363063&utm_adgroupid=65083631748&utm_device=c&utm_keyword=&utm_matchtype=b&utm_network=g&utm_adpostion=1t1&utm_creative=278443377092&utm_targetid=aud-299261629574:dsa-473406583195&utm_loc_interest_ms=&utm_loc_physical_ms=9050729&gclid=CjwKCAiAiJPkBRAuEiwAEDXZZbsKKknvVbylBZe3GOEyx-VQn06o8mJ7Q0keLWrB5ACPnIc05BGKcxoCZXAQAvD_BwE#question5\n",
    "\n",
    "https://docs.python.org/2/library/copy.html\n"
   ]
  },
  {
   "cell_type": "markdown",
   "metadata": {
    "colab_type": "text",
    "id": "kAkDPUyRtYyH"
   },
   "source": [
    "Describe brevemente las lineas de como crees que es posible avanzar en el estudio del problema. Ten en cuenta incluso posibles variaciones del problema y/o variaciones al alza del tamaño"
   ]
  },
  {
   "cell_type": "markdown",
   "metadata": {
    "colab_type": "text",
    "id": "IE0uZmo-tZu-"
   },
   "source": [
    "Respuesta"
   ]
  },
  {
   "cell_type": "markdown",
   "metadata": {
    "ExecuteTime": {
     "end_time": "2019-03-13T08:04:25.106323Z",
     "start_time": "2019-03-13T08:04:25.101135Z"
    }
   },
   "source": [
    "Una manera de continuar avanzando con la resolución de este problema podría ser:\n",
    "    Implementar un algoritmo que siempre tomara un elemento de cada uno de los grupos, de este modo se generarían grupos con la misma distribución que la población.\n",
    "    Otra variación pudiera ser encontrar el mejor tamaño de grupos para promover la homogeneidad de los mismos.\n",
    "\n",
    "    "
   ]
  }
 ],
 "metadata": {
  "celltoolbar": "Slideshow",
  "colab": {
   "collapsed_sections": [],
   "name": "Daniel Brambila - Seminario(plantilla) - Algoritmos.ipynb",
   "provenance": [],
   "version": "0.3.2"
  },
  "hide_input": false,
  "kernelspec": {
   "display_name": "Python 3",
   "language": "python",
   "name": "python3"
  },
  "language_info": {
   "codemirror_mode": {
    "name": "ipython",
    "version": 3
   },
   "file_extension": ".py",
   "mimetype": "text/x-python",
   "name": "python",
   "nbconvert_exporter": "python",
   "pygments_lexer": "ipython3",
   "version": "3.5.2"
  }
 },
 "nbformat": 4,
 "nbformat_minor": 1
}
